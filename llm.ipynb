{
 "cells": [
  {
   "cell_type": "code",
   "execution_count": 35,
   "metadata": {},
   "outputs": [],
   "source": [
    "###\n",
    "### Import libraries \n",
    "###\n",
    "import PyPDF2\n",
    "import sklearn\n",
    "import matplotlib.pyplot as plt \n",
    "import pandas as pd \n",
    "import seaborn as sb\n",
    "from sklearn import preprocessing\n",
    "import numpy as np"
   ]
  },
  {
   "cell_type": "code",
   "execution_count": 33,
   "metadata": {},
   "outputs": [],
   "source": [
    "# Open the PDF file\n",
    "with open('./papers/Cernelev-TongueNav-Manuscript-ImNO2023-v4.pdf', 'rb') as file:\n",
    "    pdf = PyPDF2.PdfReader(file)\n",
    "    \n",
    "    # Initialize an empty string to store the text\n",
    "    text = ''\n",
    "    \n",
    "    # Iterate through all the pages\n",
    "    for i in range(len(pdf.pages)):\n",
    "        page = pdf.pages[i]\n",
    "        text += page.extract_text()\n",
    "        \n",
    "    # Write the text to a file\n",
    "    with open('research_paper.txt', 'w', encoding='utf-8') as text_file:\n",
    "        text_file.write(text)"
   ]
  },
  {
   "cell_type": "code",
   "execution_count": 31,
   "metadata": {},
   "outputs": [
    {
     "name": "stdout",
     "output_type": "stream",
     "text": [
      " The surgical excision of tongue tumors , referred to as g lossectomy , is a common \n",
      "treatment for oral tongue cancers. The procedure  involves excising the tumor while preserving as much of \n",
      "the surrounding healthy tissue as possible. The excised tongue tumor is sent to a pathologist to analyze the \n",
      "tissue , negative margins indicat e that the tumor was sufficiently removed from the patient  [1]. The \n",
      "computer -navigation system,  NaviKnife , uses real -time electromagnetic tracking to determine the location \n",
      "of the surgical tools  relative to the patient anatomy , originally developed for  breast -conserving surgery.  \n",
      "When tested the system resulted in  the resection of less healthy tissue as well as increased confidence for \n",
      "the surgeons  [2]. In this work, we present the technical challenges and potential solutions when  translating  \n",
      "previously designed  computer navigated system s to glossectomy . \n",
      "METHODS:  The NaviKnife system was  initially tested for \n",
      "glossectomy by  directly applying it to a simulated workspace (Figure \n",
      "1). However, implementing NaviKnife in its current iteration within \n",
      "the glossectomy workspace posed a series of challenges  that must be \n",
      "solved . The first challenge comes from the constrained glossectomy \n",
      "workspace. Due to the minimal workspace within the operating \n",
      "room the NaviKnife  tumor tracking methods must be compact  to \n",
      "prevent it from disrupting  the surgeon while maintaining  a high  \n",
      "accuracy. Another issue is the complex anatomy of the tongue , as it has the lingual artery which if breached \n",
      "can cause excessive bleeding. The current standard for tracking tumors within NaviKnife  is to  use \n",
      "ultrasound imaging to generate a 3D visualization in the navigational software , while  insert ing a tracked  \n",
      "needle with in the tumor. This could pose challenges  for the surgeon \n",
      "if the lingual artery is pierced causing complications for the patient.   \n",
      "RESULTS:  The standard electromagnetic tracking element s used \n",
      "for NaviKnife  while effective for operations with larger workspaces \n",
      "are too large and b ulky for use in  glossectomies. The tracking \n",
      "methods must be re designed  to prevent disrupting the surgeon and \n",
      "harming the surrounding anatomical structures within the tongue. A \n",
      "potential solution includes implementing a small  sensor  which can \n",
      "be inserted directly within the tumor to be tracked  instead of using a \n",
      "tracked needl e (Figure 2) . Due to  the small nature  of the sensor , it \n",
      "will prevent overcrowding in the  surgeon ’s workspace during the \n",
      "procedure . \n",
      "CONCLUSION:  The study captures the complexity of implementing computer navigation within a \n",
      "constrained workspace.  Within such a workspace the tracking techniques must be reinvented to allow \n",
      "comfortable non -invasive tracking.  Future work includes comparing different tracking elements to \n",
      "determine their performance in a given workspace . Determining new methods for tracking within different \n",
      "surgical contexts that hold unique c onstraints may allow for the simple translation of existing computer \n",
      "navigation systems to different surgical fields.  \n",
      "REFERENCES:   \n",
      "[1] Ansarin , M., Bruschini, R., Navach, V., Giugliano, G., Calabrese, L., Chiesa, F., Medina, J. E., Kowalski, L. P., & Shah, J. P. (201 9). \n",
      "Classification of glossectomies: Proposal for tongue cancer resections. Head & Neck , 41(3), 821 –827. \n",
      "https://doi.org/10.1002/hed.25466  \n",
      "[2] Gauvin, G., Yeo, C. T., Ungi, T., Merchant, S., Lasso, A., Jabs, D., Vaughan, T., Rudan, J. F., Walker, R., Fichtinger, G., &  Engel, C. \n",
      "J. (2020). Real‐time electro magnetic navigation for breast‐conserving surgery using NaviKnife technology: A matched case‐control \n",
      "study. The Breast Journal , 26(3), 399 –405. https://doi.org/10.1111/tbj.13480  \n",
      "\n"
     ]
    }
   ],
   "source": [
    "text = text[120:]\n",
    "print(text)"
   ]
  },
  {
   "cell_type": "code",
   "execution_count": 34,
   "metadata": {},
   "outputs": [
    {
     "name": "stdout",
     "output_type": "stream",
     "text": [
      "\n",
      " &(),-./0123456789:;ABCDEFGHIJKLMNOPQRSTUVWY[]abcdefghijklmnopqrstuvwxyz‐–’\n",
      "76\n"
     ]
    }
   ],
   "source": [
    "chars = sorted(list(set(text)))\n",
    "vocab_size = len(chars)\n",
    "print(''.join(chars))\n",
    "print(vocab_size)"
   ]
  },
  {
   "cell_type": "code",
   "execution_count": 17,
   "metadata": {},
   "outputs": [
    {
     "name": "stdout",
     "output_type": "stream",
     "text": [
      "[54, 55, 55, 1, 66, 54, 51, 64, 51]\n"
     ]
    }
   ],
   "source": [
    "stoi = { ch:i for i,ch in enumerate(chars) }\n",
    "itos = { i:ch for i,ch in enumerate(chars) }\n",
    "encode = lambda s: [stoi[c] for c in s]\n",
    "decode = lambda l: ''.join([itos[i] for i in l])\n",
    "\n",
    "print(encode(\"hii there\"))\n",
    "\n",
    "\n"
   ]
  },
  {
   "cell_type": "code",
   "execution_count": 18,
   "metadata": {},
   "outputs": [
    {
     "name": "stdout",
     "output_type": "stream",
     "text": [
      "torch.Size([4282]) torch.int64\n",
      "tensor([21, 50, 47, 62, 66, 55, 60, 53,  1,  1, 51, 58, 51, 49, 66, 64, 61, 59,\n",
      "        47, 53, 60, 51, 66, 55, 49,  1, 66, 61, 61, 58,  1, 66, 64, 47, 49, 57,\n",
      "        55, 60, 53,  1, 52, 61, 64,  1, 67, 58, 66, 64, 47, 65, 61, 67, 60, 50,\n",
      "         1,  6, 53, 67, 55, 50, 51, 50,  1,  1,  0,  1, 61, 64, 47, 58,  1, 49,\n",
      "        47, 68, 55, 66, 71,  1, 49, 47, 60, 49, 51, 64,  1, 64, 51, 65, 51, 49,\n",
      "        66, 55, 61, 60,  1,  1,  0, 36, 47, 68, 51, 58,  1,  6, 24, 67, 59, 55,\n",
      "        66, 64, 67,  1, 23, 51, 64, 60, 51, 58, 51, 68, 10,  5,  1, 31, 64, 55,\n",
      "        65, 66, 61, 52,  1, 33, 61, 53, 47, 11,  5, 12,  5,  1, 23, 54, 64, 55,\n",
      "        65,  1, 44, 51, 67, 60, 53, 10,  5,  1, 40, 47, 59, 47, 65,  1, 28, 47,\n",
      "        55, 50, 51, 53, 53, 51, 64, 11,  5,  1, 27, 51, 64, 60, 61, 66,  1, 31,\n",
      "        64, 61, 60, 64, 51, 55, 52, 13,  5,  1,  1,  0, 40, 47, 59, 47, 65,  1,\n",
      "        41, 60, 53, 55, 10,  5,  1, 27, 47, 48, 61, 64,  1, 26, 55, 49, 54, 66,\n",
      "        55, 60, 53, 51, 64, 10,  1,  1,  0, 10, 32, 47, 48, 61, 64, 47, 66, 61,\n",
      "        64, 71,  1, 52, 61, 64,  1, 36, 51, 64, 49, 67, 66, 47, 60, 51, 61, 67,\n",
      "        65,  1, 39, 67, 64, 53, 51, 64, 71,  5,  1, 37, 67, 51, 51, 60, 75, 65,\n",
      "         1, 41, 60, 55, 68, 51, 64, 65, 55, 66, 71,  5,  1, 31, 55, 60, 53, 65,\n",
      "        66, 61, 60,  5,  1, 23, 47, 60, 47, 50, 47, 20,  1, 11, 41, 60, 55, 68,\n",
      "        51, 64, 65, 55, 66, 71,  1, 38, 51, 65, 51, 47, 64, 49, 54,  1, 47, 60,\n",
      "        50,  1, 29, 60, 60, 61, 68, 47, 66, 55, 61, 60,  1,  0, 23, 51, 60, 66,\n",
      "        51, 64,  1,  3, 25, 31, 29, 31,  4,  5,  1, 35, 48, 67, 50, 47,  1, 41,\n",
      "        60, 55, 68, 51, 64, 65, 55, 66, 71,  5,  1, 22, 67, 50, 47, 62, 51, 65,\n",
      "        66,  5,  1, 28, 67, 60, 53, 47, 64, 71, 20,  1, 12, 24, 61, 49, 66, 61,\n",
      "        64, 47, 58,  1, 39, 49, 54, 61, 61, 58,  1, 61, 52,  1, 33, 51, 50, 55,\n",
      "        49, 55, 60, 51,  5,  1, 39, 51, 59, 59, 51, 58, 69, 51, 55, 65,  1, 41,\n",
      "        60, 55, 68, 51, 64, 65, 55, 66, 71,  5,  1,  0, 22, 67, 50, 47, 62, 51,\n",
      "        65, 66,  5,  1, 28, 67, 60, 53, 47, 64, 71,  1, 20,  1, 13, 21, 23, 33,\n",
      "        29, 40,  1,  1, 27, 59, 48, 54,  5,  1, 43, 55,  1, 51, 60, 51, 64,  1,\n",
      "        34, 51, 67, 65, 66, 47, 50, 66,  5,  1, 21, 67, 65, 66, 64, 55, 47,  1,\n",
      "         1,  0, 29, 34, 40, 38, 35, 24, 41, 23, 40, 29, 35, 34, 19,  1,  1, 40,\n",
      "        54, 51,  1, 65, 67, 64, 53, 55, 49, 47, 58,  1, 51, 70, 49, 55, 65, 55,\n",
      "        61, 60,  1, 61, 52,  1, 66, 61, 60, 53, 67, 51,  1, 66, 67, 59, 61, 64,\n",
      "        65,  1,  5,  1, 64, 51, 52, 51, 64, 64, 51, 50,  1, 66, 61,  1, 47, 65,\n",
      "         1, 53,  1, 58, 61, 65, 65, 51, 49, 66, 61, 59, 71,  1,  5,  1, 55, 65,\n",
      "         1, 47,  1, 49, 61, 59, 59, 61, 60,  1,  0, 66, 64, 51, 47, 66, 59, 51,\n",
      "        60, 66,  1, 52, 61, 64,  1, 61, 64, 47, 58,  1, 66, 61, 60, 53, 67, 51,\n",
      "         1, 49, 47, 60, 49, 51, 64, 65,  7,  1, 40, 54, 51,  1, 62, 64, 61, 49,\n",
      "        51, 50, 67, 64, 51,  1,  1, 55, 60, 68, 61, 58, 68, 51, 65,  1, 51, 70,\n",
      "        49, 55, 65, 55, 60, 53,  1, 66, 54, 51,  1, 66, 67, 59, 61, 64,  1, 69,\n",
      "        54, 55, 58, 51,  1, 62, 64, 51, 65, 51, 64, 68, 55, 60, 53,  1, 47, 65,\n",
      "         1, 59, 67, 49, 54,  1, 61, 52,  1,  0, 66, 54, 51,  1, 65, 67, 64, 64,\n",
      "        61, 67, 60, 50, 55, 60, 53,  1, 54, 51, 47, 58, 66, 54, 71,  1, 66, 55,\n",
      "        65, 65, 67, 51,  1, 47, 65,  1, 62, 61, 65, 65, 55, 48, 58, 51,  7,  1,\n",
      "        40, 54, 51,  1, 51, 70, 49, 55, 65, 51, 50,  1, 66, 61, 60, 53, 67, 51,\n",
      "         1, 66, 67, 59, 61, 64,  1, 55, 65,  1, 65, 51, 60, 66,  1, 66, 61,  1,\n",
      "        47,  1, 62, 47, 66, 54, 61, 58, 61, 53, 55, 65, 66,  1, 66, 61,  1, 47,\n",
      "        60, 47, 58, 71, 72, 51,  1, 66, 54, 51,  1,  0, 66, 55, 65, 65, 67, 51,\n",
      "         1,  5,  1, 60, 51, 53, 47, 66, 55, 68, 51,  1, 59, 47, 64, 53, 55, 60,\n",
      "        65,  1, 55, 60, 50, 55, 49, 47, 66,  1, 51,  1, 66, 54, 47, 66,  1, 66,\n",
      "        54, 51,  1, 66, 67, 59, 61, 64,  1, 69, 47, 65,  1, 65, 67, 52, 52, 55,\n",
      "        49, 55, 51, 60, 66, 58, 71,  1, 64, 51, 59, 61, 68, 51, 50,  1, 52, 64,\n",
      "        61, 59,  1, 66, 54, 51,  1, 62, 47, 66, 55, 51, 60, 66,  1,  1, 45, 10,\n",
      "        46,  7,  1, 40, 54, 51,  1,  0, 49, 61, 59, 62, 67, 66, 51, 64,  1,  6,\n",
      "        60, 47, 68, 55, 53, 47, 66, 55, 61, 60,  1, 65, 71, 65, 66, 51, 59,  5,\n",
      "         1,  1, 34, 47, 68, 55, 31, 60, 55, 52, 51,  1,  5,  1, 67, 65, 51, 65,\n",
      "         1, 64, 51, 47, 58,  1,  6, 66, 55, 59, 51,  1, 51, 58, 51, 49, 66, 64,\n",
      "        61, 59, 47, 53, 60, 51, 66, 55, 49,  1])\n"
     ]
    }
   ],
   "source": [
    "import torch\n",
    "\n",
    "data = torch.tensor(encode(text), dtype=torch.long)\n",
    "print(data.shape, data.dtype)\n",
    "print(data[:1000])"
   ]
  },
  {
   "cell_type": "code",
   "execution_count": 19,
   "metadata": {},
   "outputs": [],
   "source": [
    "n = int(0.9*len(data))\n",
    "train_data = data[:n]\n",
    "val_data = data[n:]\n"
   ]
  },
  {
   "cell_type": "code",
   "execution_count": 20,
   "metadata": {},
   "outputs": [
    {
     "data": {
      "text/plain": [
       "tensor([21, 50, 47, 62, 66, 55, 60, 53,  1])"
      ]
     },
     "execution_count": 20,
     "metadata": {},
     "output_type": "execute_result"
    }
   ],
   "source": [
    "block_size = 8\n",
    "train_data[:block_size+1]"
   ]
  },
  {
   "cell_type": "code",
   "execution_count": 22,
   "metadata": {},
   "outputs": [],
   "source": [
    "x = train_data[:block_size]\n",
    "y = train_data[1:block_size+1]\n",
    "for t in range(block_size):\n",
    "    context = x[:t+1]\n",
    "    target = y[t]\n"
   ]
  },
  {
   "cell_type": "code",
   "execution_count": 24,
   "metadata": {},
   "outputs": [],
   "source": [
    "batch_size = 4\n",
    "block_size = 8\n",
    "\n",
    "def get_batch(split):\n",
    "    # generate a small batch of data of inputs x and targets y\n",
    "    data = train_data if split == 'train' else val_data\n",
    "    ix = torch.randint(len(data) - block_size, (batch_size,))\n",
    "    x = torch.stack([data[i:i+block_size] for i in ix])\n",
    "    y = torch.stack([data[i+1:i+block_size+1] for i in ix])\n",
    "    x, y = x.to(device), y.to(device)\n",
    "    return x, y\n",
    "\n"
   ]
  },
  {
   "cell_type": "code",
   "execution_count": null,
   "metadata": {},
   "outputs": [],
   "source": []
  }
 ],
 "metadata": {
  "kernelspec": {
   "display_name": "Python 3.10.8 64-bit",
   "language": "python",
   "name": "python3"
  },
  "language_info": {
   "codemirror_mode": {
    "name": "ipython",
    "version": 3
   },
   "file_extension": ".py",
   "mimetype": "text/x-python",
   "name": "python",
   "nbconvert_exporter": "python",
   "pygments_lexer": "ipython3",
   "version": "3.10.8 (tags/v3.10.8:aaaf517, Oct 11 2022, 16:50:30) [MSC v.1933 64 bit (AMD64)]"
  },
  "orig_nbformat": 4,
  "vscode": {
   "interpreter": {
    "hash": "320e4e428c58c70c5aac27ce1fa4824b565dff6a3763e317ddfa8e50567a3cc4"
   }
  }
 },
 "nbformat": 4,
 "nbformat_minor": 2
}
